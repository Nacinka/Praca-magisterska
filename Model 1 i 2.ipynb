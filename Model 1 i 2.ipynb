{
 "cells": [
  {
   "cell_type": "code",
   "execution_count": 1,
   "metadata": {},
   "outputs": [],
   "source": [
    "import pandas as pd\n",
    "from datetime import datetime\n",
    "import numpy as np \n",
    "from scipy import stats\n",
    "import matplotlib.pyplot as plt\n",
    "import seaborn as sns\n",
    "import matplotlib.pyplot as plt\n",
    "import tensorflow as tf\n",
    "from keras import Sequential\n",
    "from tensorflow import keras\n",
    "from keras.callbacks import ModelCheckpoint, EarlyStopping\n",
    "from sklearn.preprocessing import MinMaxScaler"
   ]
  },
  {
   "cell_type": "code",
   "execution_count": 2,
   "metadata": {},
   "outputs": [],
   "source": [
    "np.random.seed(42)"
   ]
  },
  {
   "cell_type": "code",
   "execution_count": 3,
   "metadata": {},
   "outputs": [],
   "source": [
    "final_data = df = pd.read_csv('final_data.csv')"
   ]
  },
  {
   "cell_type": "code",
   "execution_count": 4,
   "metadata": {},
   "outputs": [
    {
     "data": {
      "text/html": [
       "<div>\n",
       "<style scoped>\n",
       "    .dataframe tbody tr th:only-of-type {\n",
       "        vertical-align: middle;\n",
       "    }\n",
       "\n",
       "    .dataframe tbody tr th {\n",
       "        vertical-align: top;\n",
       "    }\n",
       "\n",
       "    .dataframe thead th {\n",
       "        text-align: right;\n",
       "    }\n",
       "</style>\n",
       "<table border=\"1\" class=\"dataframe\">\n",
       "  <thead>\n",
       "    <tr style=\"text-align: right;\">\n",
       "      <th></th>\n",
       "      <th>Date</th>\n",
       "      <th>Gas price</th>\n",
       "      <th>Crude oil price</th>\n",
       "      <th>Inflation</th>\n",
       "      <th>Euro exchange rate</th>\n",
       "      <th>Dolar exchange rate</th>\n",
       "      <th>Gas import</th>\n",
       "      <th>PKB index</th>\n",
       "      <th>Temperature</th>\n",
       "    </tr>\n",
       "  </thead>\n",
       "  <tbody>\n",
       "    <tr>\n",
       "      <th>0</th>\n",
       "      <td>2022-03</td>\n",
       "      <td>4.527</td>\n",
       "      <td>127.98</td>\n",
       "      <td>104.3</td>\n",
       "      <td>4.90878</td>\n",
       "      <td>4.50282</td>\n",
       "      <td>3557.084573</td>\n",
       "      <td>127.157356</td>\n",
       "      <td>3.7</td>\n",
       "    </tr>\n",
       "    <tr>\n",
       "      <th>1</th>\n",
       "      <td>2022-02</td>\n",
       "      <td>4.402</td>\n",
       "      <td>97.97</td>\n",
       "      <td>104.3</td>\n",
       "      <td>4.70200</td>\n",
       "      <td>4.19056</td>\n",
       "      <td>3557.084573</td>\n",
       "      <td>127.157356</td>\n",
       "      <td>3.5</td>\n",
       "    </tr>\n",
       "    <tr>\n",
       "      <th>2</th>\n",
       "      <td>2022-01</td>\n",
       "      <td>4.874</td>\n",
       "      <td>89.26</td>\n",
       "      <td>104.3</td>\n",
       "      <td>4.58055</td>\n",
       "      <td>4.07820</td>\n",
       "      <td>3557.084573</td>\n",
       "      <td>127.157356</td>\n",
       "      <td>1.2</td>\n",
       "    </tr>\n",
       "    <tr>\n",
       "      <th>3</th>\n",
       "      <td>2021-12</td>\n",
       "      <td>3.730</td>\n",
       "      <td>77.78</td>\n",
       "      <td>104.3</td>\n",
       "      <td>4.58921</td>\n",
       "      <td>4.03410</td>\n",
       "      <td>2162.347000</td>\n",
       "      <td>127.157356</td>\n",
       "      <td>-0.7</td>\n",
       "    </tr>\n",
       "    <tr>\n",
       "      <th>4</th>\n",
       "      <td>2021-11</td>\n",
       "      <td>4.567</td>\n",
       "      <td>69.23</td>\n",
       "      <td>107.8</td>\n",
       "      <td>4.66035</td>\n",
       "      <td>4.11015</td>\n",
       "      <td>2153.581000</td>\n",
       "      <td>127.157356</td>\n",
       "      <td>5.5</td>\n",
       "    </tr>\n",
       "    <tr>\n",
       "      <th>...</th>\n",
       "      <td>...</td>\n",
       "      <td>...</td>\n",
       "      <td>...</td>\n",
       "      <td>...</td>\n",
       "      <td>...</td>\n",
       "      <td>...</td>\n",
       "      <td>...</td>\n",
       "      <td>...</td>\n",
       "      <td>...</td>\n",
       "    </tr>\n",
       "    <tr>\n",
       "      <th>262</th>\n",
       "      <td>2000-05</td>\n",
       "      <td>4.360</td>\n",
       "      <td>28.31</td>\n",
       "      <td>110.0</td>\n",
       "      <td>4.09400</td>\n",
       "      <td>4.39000</td>\n",
       "      <td>3557.084573</td>\n",
       "      <td>57.533001</td>\n",
       "      <td>15.8</td>\n",
       "    </tr>\n",
       "    <tr>\n",
       "      <th>263</th>\n",
       "      <td>2000-04</td>\n",
       "      <td>3.140</td>\n",
       "      <td>23.89</td>\n",
       "      <td>109.8</td>\n",
       "      <td>4.06480</td>\n",
       "      <td>4.46500</td>\n",
       "      <td>3557.084573</td>\n",
       "      <td>57.365028</td>\n",
       "      <td>12.8</td>\n",
       "    </tr>\n",
       "    <tr>\n",
       "      <th>264</th>\n",
       "      <td>2000-03</td>\n",
       "      <td>2.940</td>\n",
       "      <td>24.77</td>\n",
       "      <td>110.3</td>\n",
       "      <td>3.93880</td>\n",
       "      <td>4.12700</td>\n",
       "      <td>3557.084573</td>\n",
       "      <td>57.195778</td>\n",
       "      <td>3.7</td>\n",
       "    </tr>\n",
       "    <tr>\n",
       "      <th>265</th>\n",
       "      <td>2000-02</td>\n",
       "      <td>2.760</td>\n",
       "      <td>28.08</td>\n",
       "      <td>110.4</td>\n",
       "      <td>4.01500</td>\n",
       "      <td>4.16000</td>\n",
       "      <td>3557.084573</td>\n",
       "      <td>57.025212</td>\n",
       "      <td>2.9</td>\n",
       "    </tr>\n",
       "    <tr>\n",
       "      <th>266</th>\n",
       "      <td>2000-01</td>\n",
       "      <td>2.662</td>\n",
       "      <td>28.08</td>\n",
       "      <td>110.1</td>\n",
       "      <td>4.01500</td>\n",
       "      <td>4.20600</td>\n",
       "      <td>3557.084573</td>\n",
       "      <td>56.853300</td>\n",
       "      <td>-0.8</td>\n",
       "    </tr>\n",
       "  </tbody>\n",
       "</table>\n",
       "<p>267 rows × 9 columns</p>\n",
       "</div>"
      ],
      "text/plain": [
       "        Date  Gas price  Crude oil price  Inflation  Euro exchange rate  \\\n",
       "0    2022-03      4.527           127.98      104.3             4.90878   \n",
       "1    2022-02      4.402            97.97      104.3             4.70200   \n",
       "2    2022-01      4.874            89.26      104.3             4.58055   \n",
       "3    2021-12      3.730            77.78      104.3             4.58921   \n",
       "4    2021-11      4.567            69.23      107.8             4.66035   \n",
       "..       ...        ...              ...        ...                 ...   \n",
       "262  2000-05      4.360            28.31      110.0             4.09400   \n",
       "263  2000-04      3.140            23.89      109.8             4.06480   \n",
       "264  2000-03      2.940            24.77      110.3             3.93880   \n",
       "265  2000-02      2.760            28.08      110.4             4.01500   \n",
       "266  2000-01      2.662            28.08      110.1             4.01500   \n",
       "\n",
       "     Dolar exchange rate   Gas import   PKB index  Temperature  \n",
       "0                4.50282  3557.084573  127.157356          3.7  \n",
       "1                4.19056  3557.084573  127.157356          3.5  \n",
       "2                4.07820  3557.084573  127.157356          1.2  \n",
       "3                4.03410  2162.347000  127.157356         -0.7  \n",
       "4                4.11015  2153.581000  127.157356          5.5  \n",
       "..                   ...          ...         ...          ...  \n",
       "262              4.39000  3557.084573   57.533001         15.8  \n",
       "263              4.46500  3557.084573   57.365028         12.8  \n",
       "264              4.12700  3557.084573   57.195778          3.7  \n",
       "265              4.16000  3557.084573   57.025212          2.9  \n",
       "266              4.20600  3557.084573   56.853300         -0.8  \n",
       "\n",
       "[267 rows x 9 columns]"
      ]
     },
     "execution_count": 4,
     "metadata": {},
     "output_type": "execute_result"
    }
   ],
   "source": [
    "final_data"
   ]
  },
  {
   "cell_type": "code",
   "execution_count": 5,
   "metadata": {},
   "outputs": [],
   "source": [
    "final_data  = final_data[['Date','Gas price', 'Crude oil price', 'Inflation', 'Euro exchange rate', 'Dolar exchange rate','Gas import', 'Temperature']]"
   ]
  },
  {
   "cell_type": "code",
   "execution_count": 6,
   "metadata": {},
   "outputs": [
    {
     "data": {
      "text/html": [
       "<div>\n",
       "<style scoped>\n",
       "    .dataframe tbody tr th:only-of-type {\n",
       "        vertical-align: middle;\n",
       "    }\n",
       "\n",
       "    .dataframe tbody tr th {\n",
       "        vertical-align: top;\n",
       "    }\n",
       "\n",
       "    .dataframe thead th {\n",
       "        text-align: right;\n",
       "    }\n",
       "</style>\n",
       "<table border=\"1\" class=\"dataframe\">\n",
       "  <thead>\n",
       "    <tr style=\"text-align: right;\">\n",
       "      <th></th>\n",
       "      <th>Gas price</th>\n",
       "      <th>Crude oil price</th>\n",
       "      <th>Inflation</th>\n",
       "      <th>Euro exchange rate</th>\n",
       "      <th>Dolar exchange rate</th>\n",
       "      <th>Gas import</th>\n",
       "      <th>Temperature</th>\n",
       "    </tr>\n",
       "  </thead>\n",
       "  <tbody>\n",
       "    <tr>\n",
       "      <th>Gas price</th>\n",
       "      <td>1.000000</td>\n",
       "      <td>0.126196</td>\n",
       "      <td>0.090434</td>\n",
       "      <td>-0.425483</td>\n",
       "      <td>-0.503075</td>\n",
       "      <td>-0.055030</td>\n",
       "      <td>-0.046993</td>\n",
       "    </tr>\n",
       "    <tr>\n",
       "      <th>Crude oil price</th>\n",
       "      <td>0.126196</td>\n",
       "      <td>1.000000</td>\n",
       "      <td>-0.096304</td>\n",
       "      <td>-0.100349</td>\n",
       "      <td>-0.701265</td>\n",
       "      <td>-0.021490</td>\n",
       "      <td>0.037149</td>\n",
       "    </tr>\n",
       "    <tr>\n",
       "      <th>Inflation</th>\n",
       "      <td>0.090434</td>\n",
       "      <td>-0.096304</td>\n",
       "      <td>1.000000</td>\n",
       "      <td>-0.198217</td>\n",
       "      <td>0.151404</td>\n",
       "      <td>-0.117475</td>\n",
       "      <td>0.002758</td>\n",
       "    </tr>\n",
       "    <tr>\n",
       "      <th>Euro exchange rate</th>\n",
       "      <td>-0.425483</td>\n",
       "      <td>-0.100349</td>\n",
       "      <td>-0.198217</td>\n",
       "      <td>1.000000</td>\n",
       "      <td>0.444306</td>\n",
       "      <td>-0.060943</td>\n",
       "      <td>-0.008338</td>\n",
       "    </tr>\n",
       "    <tr>\n",
       "      <th>Dolar exchange rate</th>\n",
       "      <td>-0.503075</td>\n",
       "      <td>-0.701265</td>\n",
       "      <td>0.151404</td>\n",
       "      <td>0.444306</td>\n",
       "      <td>1.000000</td>\n",
       "      <td>-0.046900</td>\n",
       "      <td>0.009087</td>\n",
       "    </tr>\n",
       "    <tr>\n",
       "      <th>Gas import</th>\n",
       "      <td>-0.055030</td>\n",
       "      <td>-0.021490</td>\n",
       "      <td>-0.117475</td>\n",
       "      <td>-0.060943</td>\n",
       "      <td>-0.046900</td>\n",
       "      <td>1.000000</td>\n",
       "      <td>-0.071563</td>\n",
       "    </tr>\n",
       "    <tr>\n",
       "      <th>Temperature</th>\n",
       "      <td>-0.046993</td>\n",
       "      <td>0.037149</td>\n",
       "      <td>0.002758</td>\n",
       "      <td>-0.008338</td>\n",
       "      <td>0.009087</td>\n",
       "      <td>-0.071563</td>\n",
       "      <td>1.000000</td>\n",
       "    </tr>\n",
       "  </tbody>\n",
       "</table>\n",
       "</div>"
      ],
      "text/plain": [
       "                     Gas price  Crude oil price  Inflation  \\\n",
       "Gas price             1.000000         0.126196   0.090434   \n",
       "Crude oil price       0.126196         1.000000  -0.096304   \n",
       "Inflation             0.090434        -0.096304   1.000000   \n",
       "Euro exchange rate   -0.425483        -0.100349  -0.198217   \n",
       "Dolar exchange rate  -0.503075        -0.701265   0.151404   \n",
       "Gas import           -0.055030        -0.021490  -0.117475   \n",
       "Temperature          -0.046993         0.037149   0.002758   \n",
       "\n",
       "                     Euro exchange rate  Dolar exchange rate  Gas import  \\\n",
       "Gas price                     -0.425483            -0.503075   -0.055030   \n",
       "Crude oil price               -0.100349            -0.701265   -0.021490   \n",
       "Inflation                     -0.198217             0.151404   -0.117475   \n",
       "Euro exchange rate             1.000000             0.444306   -0.060943   \n",
       "Dolar exchange rate            0.444306             1.000000   -0.046900   \n",
       "Gas import                    -0.060943            -0.046900    1.000000   \n",
       "Temperature                   -0.008338             0.009087   -0.071563   \n",
       "\n",
       "                     Temperature  \n",
       "Gas price              -0.046993  \n",
       "Crude oil price         0.037149  \n",
       "Inflation               0.002758  \n",
       "Euro exchange rate     -0.008338  \n",
       "Dolar exchange rate     0.009087  \n",
       "Gas import             -0.071563  \n",
       "Temperature             1.000000  "
      ]
     },
     "execution_count": 6,
     "metadata": {},
     "output_type": "execute_result"
    }
   ],
   "source": [
    "final_data.corr()"
   ]
  },
  {
   "cell_type": "code",
   "execution_count": 7,
   "metadata": {},
   "outputs": [
    {
     "data": {
      "text/plain": [
       "<AxesSubplot:>"
      ]
     },
     "execution_count": 7,
     "metadata": {},
     "output_type": "execute_result"
    },
    {
     "data": {
      "image/png": "[encoded data removed]",
      "text/plain": [
       "<Figure size 1080x576 with 2 Axes>"
      ]
     },
     "metadata": {
      "needs_background": "light"
     },
     "output_type": "display_data"
    }
   ],
   "source": [
    "plt.figure(figsize=(15,8))  \n",
    "sns.heatmap(final_data.corr(), annot=True, fmt='.0%')"
   ]
  },
  {
   "cell_type": "code",
   "execution_count": 8,
   "metadata": {},
   "outputs": [
    {
     "name": "stderr",
     "output_type": "stream",
     "text": [
      "<ipython-input-8-401900860ae6>:1: SettingWithCopyWarning: \n",
      "A value is trying to be set on a copy of a slice from a DataFrame.\n",
      "Try using .loc[row_indexer,col_indexer] = value instead\n",
      "\n",
      "See the caveats in the documentation: https://pandas.pydata.org/pandas-docs/stable/user_guide/indexing.html#returning-a-view-versus-a-copy\n",
      "  final_data['Date'] =pd.to_datetime(final_data['Date'], infer_datetime_format = True)\n"
     ]
    }
   ],
   "source": [
    "final_data['Date'] =pd.to_datetime(final_data['Date'], infer_datetime_format = True)"
   ]
  },
  {
   "cell_type": "code",
   "execution_count": 9,
   "metadata": {},
   "outputs": [],
   "source": [
    "final_data = final_data.set_index('Date')"
   ]
  },
  {
   "cell_type": "code",
   "execution_count": 10,
   "metadata": {},
   "outputs": [],
   "source": [
    "train_data=final_data[final_data.index <'2018'].copy()"
   ]
  },
  {
   "cell_type": "code",
   "execution_count": 11,
   "metadata": {},
   "outputs": [],
   "source": [
    "test_data = final_data[final_data.index >='2018'].copy()"
   ]
  },
  {
   "cell_type": "code",
   "execution_count": 13,
   "metadata": {},
   "outputs": [],
   "source": [
    "X,y = train_data, test_data"
   ]
  },
  {
   "cell_type": "code",
   "execution_count": 14,
   "metadata": {},
   "outputs": [],
   "source": [
    "scaler=MinMaxScaler()\n",
    "X= scaler.fit_transform(X)"
   ]
  },
  {
   "cell_type": "code",
   "execution_count": 16,
   "metadata": {},
   "outputs": [
    {
     "name": "stdout",
     "output_type": "stream",
     "text": [
      "(215, 1, 7) (215,)\n"
     ]
    }
   ],
   "source": [
    "X_train=[]\n",
    "y_train=[]\n",
    "for i in range(1,X.shape[0]):\n",
    "    X_train.append(X[i-1:i])\n",
    "    y_train.append(X[i,0])\n",
    "X_train, y_train = np.array(X_train), np.array(y_train)\n",
    "print(X_train.shape, y_train.shape)"
   ]
  },
  {
   "cell_type": "markdown",
   "metadata": {},
   "source": [
    "##  Model numer 1 rekurencyjne sieci neuronowe GRU"
   ]
  },
  {
   "cell_type": "code",
   "execution_count": 22,
   "metadata": {},
   "outputs": [],
   "source": [
    "model = tf.keras.Sequential()"
   ]
  },
  {
   "cell_type": "code",
   "execution_count": 23,
   "metadata": {},
   "outputs": [],
   "source": [
    "model.add(tf.keras.layers.GRU(units=50, return_sequences=True, input_shape=(X_train.shape[1],7)))\n",
    "model.add(tf.keras.layers.Dropout(0.2))"
   ]
  },
  {
   "cell_type": "code",
   "execution_count": 24,
   "metadata": {},
   "outputs": [],
   "source": [
    "model.add(tf.keras.layers.GRU(units=50, return_sequences=True))\n",
    "model.add(tf.keras.layers.Dropout(0.2))"
   ]
  },
  {
   "cell_type": "code",
   "execution_count": 25,
   "metadata": {},
   "outputs": [],
   "source": [
    "model.add(tf.keras.layers.GRU(units=50, return_sequences=True))\n",
    "model.add(tf.keras.layers.Dropout(0.2))"
   ]
  },
  {
   "cell_type": "code",
   "execution_count": 26,
   "metadata": {},
   "outputs": [],
   "source": [
    "model.add(tf.keras.layers.GRU(units=50, return_sequences=False))\n",
    "model.add(tf.keras.layers.Dropout(0.2))\n",
    "model.add(tf.keras.layers.Dense(units=25))\n",
    "model.add(tf.keras.layers.Dense(units=1))\n"
   ]
  },
  {
   "cell_type": "code",
   "execution_count": 28,
   "metadata": {},
   "outputs": [],
   "source": [
    "look_back =train_data.tail(1)\n",
    "data = look_back.append(test_data)\n"
   ]
  },
  {
   "cell_type": "code",
   "execution_count": 29,
   "metadata": {},
   "outputs": [],
   "source": [
    "inputs = scaler.transform(data)"
   ]
  },
  {
   "cell_type": "code",
   "execution_count": 30,
   "metadata": {},
   "outputs": [
    {
     "name": "stdout",
     "output_type": "stream",
     "text": [
      "(51, 1, 7) (51,)\n"
     ]
    }
   ],
   "source": [
    "X_test=[]\n",
    "y_test=[]\n",
    "for i in range(1, inputs.shape[0]):\n",
    "    X_test.append(inputs[i-1:i])\n",
    "    y_test.append(inputs[i,0])\n",
    "X_test, y_test = np.array(X_test), np.array(y_test)\n",
    "print(X_test.shape, y_test.shape)"
   ]
  },
  {
   "cell_type": "code",
   "execution_count": 31,
   "metadata": {},
   "outputs": [
    {
     "name": "stdout",
     "output_type": "stream",
     "text": [
      "Epoch 1/200\n",
      "7/7 [==============================] - 5s 153ms/step - loss: 0.0748 - val_loss: 0.0142\n",
      "Epoch 2/200\n",
      "7/7 [==============================] - 0s 8ms/step - loss: 0.0406 - val_loss: 0.0581\n",
      "Epoch 3/200\n",
      "7/7 [==============================] - 0s 8ms/step - loss: 0.0360 - val_loss: 0.0307\n",
      "Epoch 4/200\n",
      "7/7 [==============================] - 0s 8ms/step - loss: 0.0335 - val_loss: 0.0220\n",
      "Epoch 5/200\n",
      "7/7 [==============================] - 0s 8ms/step - loss: 0.0329 - val_loss: 0.0232\n",
      "Epoch 6/200\n",
      "7/7 [==============================] - 0s 9ms/step - loss: 0.0291 - val_loss: 0.0270\n",
      "Epoch 7/200\n",
      "7/7 [==============================] - 0s 9ms/step - loss: 0.0265 - val_loss: 0.0162\n",
      "Epoch 8/200\n",
      "7/7 [==============================] - 0s 8ms/step - loss: 0.0214 - val_loss: 0.0094\n",
      "Epoch 9/200\n",
      "7/7 [==============================] - 0s 8ms/step - loss: 0.0162 - val_loss: 0.0062\n",
      "Epoch 10/200\n",
      "7/7 [==============================] - 0s 8ms/step - loss: 0.0132 - val_loss: 0.0035\n",
      "Epoch 11/200\n",
      "7/7 [==============================] - 0s 8ms/step - loss: 0.0119 - val_loss: 0.0039\n",
      "Epoch 12/200\n",
      "7/7 [==============================] - 0s 8ms/step - loss: 0.0095 - val_loss: 0.0046\n",
      "Epoch 13/200\n",
      "7/7 [==============================] - 0s 8ms/step - loss: 0.0085 - val_loss: 0.0044\n",
      "Epoch 14/200\n",
      "7/7 [==============================] - 0s 8ms/step - loss: 0.0084 - val_loss: 0.0043\n",
      "Epoch 15/200\n",
      "7/7 [==============================] - 0s 7ms/step - loss: 0.0088 - val_loss: 0.0042\n",
      "Epoch 16/200\n",
      "7/7 [==============================] - 0s 7ms/step - loss: 0.0110 - val_loss: 0.0038\n",
      "Epoch 17/200\n",
      "7/7 [==============================] - 0s 8ms/step - loss: 0.0080 - val_loss: 0.0040\n",
      "Epoch 18/200\n",
      "7/7 [==============================] - 0s 7ms/step - loss: 0.0085 - val_loss: 0.0035\n",
      "Epoch 19/200\n",
      "7/7 [==============================] - 0s 8ms/step - loss: 0.0075 - val_loss: 0.0035\n",
      "Epoch 20/200\n",
      "7/7 [==============================] - 0s 7ms/step - loss: 0.0100 - val_loss: 0.0036\n",
      "Epoch 21/200\n",
      "7/7 [==============================] - 0s 8ms/step - loss: 0.0074 - val_loss: 0.0039\n",
      "Epoch 22/200\n",
      "7/7 [==============================] - 0s 8ms/step - loss: 0.0095 - val_loss: 0.0038\n",
      "Epoch 23/200\n",
      "7/7 [==============================] - 0s 8ms/step - loss: 0.0066 - val_loss: 0.0039\n",
      "Epoch 24/200\n",
      "7/7 [==============================] - 0s 8ms/step - loss: 0.0078 - val_loss: 0.0036\n",
      "Epoch 25/200\n",
      "7/7 [==============================] - 0s 8ms/step - loss: 0.0074 - val_loss: 0.0039\n",
      "Epoch 26/200\n",
      "7/7 [==============================] - 0s 7ms/step - loss: 0.0074 - val_loss: 0.0032\n",
      "Epoch 27/200\n",
      "7/7 [==============================] - 0s 8ms/step - loss: 0.0082 - val_loss: 0.0035\n",
      "Epoch 28/200\n",
      "7/7 [==============================] - 0s 8ms/step - loss: 0.0083 - val_loss: 0.0031\n",
      "Epoch 29/200\n",
      "7/7 [==============================] - 0s 8ms/step - loss: 0.0075 - val_loss: 0.0031\n",
      "Epoch 30/200\n",
      "7/7 [==============================] - 0s 8ms/step - loss: 0.0071 - val_loss: 0.0030\n",
      "Epoch 31/200\n",
      "7/7 [==============================] - 0s 8ms/step - loss: 0.0079 - val_loss: 0.0032\n",
      "Epoch 32/200\n",
      "7/7 [==============================] - 0s 8ms/step - loss: 0.0072 - val_loss: 0.0029\n",
      "Epoch 33/200\n",
      "7/7 [==============================] - 0s 9ms/step - loss: 0.0074 - val_loss: 0.0029\n"
     ]
    }
   ],
   "source": [
    "model.compile(optimizer='adam', loss='mean_squared_error')\n",
    "early_stopping=EarlyStopping(monitor='loss', patience=10)\n",
    "history=model.fit(X_train, y_train,\n",
    "                 epochs =200,\n",
    "                 batch_size=32, validation_data=(X_test, y_test),\n",
    "                 callbacks=[early_stopping])"
   ]
  },
  {
   "cell_type": "code",
   "execution_count": 32,
   "metadata": {},
   "outputs": [
    {
     "data": {
      "image/png": "[encoded data removed]",
      "text/plain": [
       "<Figure size 432x288 with 1 Axes>"
      ]
     },
     "metadata": {
      "needs_background": "light"
     },
     "output_type": "display_data"
    }
   ],
   "source": [
    "plt.plot(history.history['loss'])\n",
    "plt.plot(history.history['val_loss'])\n",
    "plt.title('loss')\n",
    "plt.xlabel('epoch')\n",
    "plt.legend(['train','validation'], loc='best')\n",
    "plt.show()"
   ]
  },
  {
   "cell_type": "code",
   "execution_count": 33,
   "metadata": {},
   "outputs": [],
   "source": [
    "y_pred = model.predict(X_test)"
   ]
  },
  {
   "cell_type": "code",
   "execution_count": 34,
   "metadata": {},
   "outputs": [
    {
     "data": {
      "text/plain": [
       "array([0.08193363, 0.00828569, 0.07575758, 0.59608965, 0.38704184,\n",
       "       0.0010582 , 0.03164557])"
      ]
     },
     "execution_count": 34,
     "metadata": {},
     "output_type": "execute_result"
    }
   ],
   "source": [
    "scaler.scale_"
   ]
  },
  {
   "cell_type": "code",
   "execution_count": 35,
   "metadata": {},
   "outputs": [
    {
     "data": {
      "text/plain": [
       "12.205000559599277"
      ]
     },
     "execution_count": 35,
     "metadata": {},
     "output_type": "execute_result"
    }
   ],
   "source": [
    "scale=1/0.08193363\n",
    "scale"
   ]
  },
  {
   "cell_type": "code",
   "execution_count": 36,
   "metadata": {},
   "outputs": [],
   "source": [
    "y_pred=y_pred*scale\n",
    "y_pred = pd.DataFrame(y_pred)\n",
    "y_pred.rename(columns={0:'Prediction'}, inplace=True)"
   ]
  },
  {
   "cell_type": "code",
   "execution_count": 37,
   "metadata": {},
   "outputs": [],
   "source": [
    "y_test = y_test*scale\n",
    "y_test = pd.DataFrame(y_test)\n",
    "y_test.rename(columns={0:'Actual gas prices'}, inplace=True)"
   ]
  },
  {
   "cell_type": "code",
   "execution_count": 40,
   "metadata": {},
   "outputs": [
    {
     "data": {
      "image/png": "[encoded data removed]",
      "text/plain": [
       "<Figure size 720x432 with 1 Axes>"
      ]
     },
     "metadata": {
      "needs_background": "light"
     },
     "output_type": "display_data"
    }
   ],
   "source": [
    "plt.figure(figsize=(10,6))\n",
    "plt.plot(y_test, color='red', label='Actual price')\n",
    "plt.plot(y_pred, color= 'blue', label ='predicted price')\n",
    "plt.legend()\n",
    "plt.show()"
   ]
  },
  {
   "cell_type": "code",
   "execution_count": 43,
   "metadata": {},
   "outputs": [
    {
     "name": "stdout",
     "output_type": "stream",
     "text": [
      "Mean squared error:  0.6623252981127957\n",
      "R2 Score :  0.5185830254551151\n"
     ]
    }
   ],
   "source": [
    "MSE = math.sqrt(mean_squared_error(y_test, y_pred))\n",
    "print('Mean squared error: ', MSE)\n",
    "print('R2 Score : ', r2_score(y_test, y_pred))"
   ]
  },
  {
   "cell_type": "markdown",
   "metadata": {},
   "source": [
    "## Model numer 2 rekurencyjne sieci neuronowe LSTM"
   ]
  },
  {
   "cell_type": "code",
   "execution_count": 45,
   "metadata": {},
   "outputs": [],
   "source": [
    "model2 = tf.keras.Sequential()\n",
    "model2.add(tf.keras.layers.GRU(units=50, return_sequences=True, input_shape=(X_train.shape[1],7)))\n",
    "#model.add(tf.keras.layers.Dropout(0.2))\n",
    "model2.add(tf.keras.layers.GRU(units=50, return_sequences=True))\n",
    "#model.add(tf.keras.layers.Dropout(0.2))\n",
    "model2.add(tf.keras.layers.GRU(units=50, return_sequences=True))\n",
    "#model.add(tf.keras.layers.Dropout(0.2))\n",
    "model2.add(tf.keras.layers.GRU(units=50, return_sequences=False))\n",
    "model2.add(tf.keras.layers.Dropout(0.2))\n",
    "model2.add(tf.keras.layers.Dense(units=25))\n",
    "model2.add(tf.keras.layers.Dense(units=1))\n",
    "\n"
   ]
  },
  {
   "cell_type": "code",
   "execution_count": 46,
   "metadata": {},
   "outputs": [],
   "source": [
    "look_back =train_data.tail(1)\n",
    "data = look_back.append(test_data)"
   ]
  },
  {
   "cell_type": "code",
   "execution_count": 47,
   "metadata": {},
   "outputs": [],
   "source": [
    "inputs = scaler.transform(data)"
   ]
  },
  {
   "cell_type": "code",
   "execution_count": 48,
   "metadata": {},
   "outputs": [
    {
     "name": "stdout",
     "output_type": "stream",
     "text": [
      "(51, 1, 7) (51,)\n"
     ]
    }
   ],
   "source": [
    "X_test=[]\n",
    "y_test=[]\n",
    "for i in range(1, inputs.shape[0]):\n",
    "    X_test.append(inputs[i-1:i])\n",
    "    y_test.append(inputs[i,0])\n",
    "X_test, y_test = np.array(X_test), np.array(y_test)\n",
    "print(X_test.shape, y_test.shape)"
   ]
  },
  {
   "cell_type": "code",
   "execution_count": 49,
   "metadata": {},
   "outputs": [
    {
     "name": "stdout",
     "output_type": "stream",
     "text": [
      "Epoch 1/200\n",
      "7/7 [==============================] - 5s 154ms/step - loss: 0.0741 - val_loss: 0.0102\n",
      "Epoch 2/200\n",
      "7/7 [==============================] - 0s 8ms/step - loss: 0.0390 - val_loss: 0.0626\n",
      "Epoch 3/200\n",
      "7/7 [==============================] - 0s 8ms/step - loss: 0.0381 - val_loss: 0.0329\n",
      "Epoch 4/200\n",
      "7/7 [==============================] - 0s 8ms/step - loss: 0.0343 - val_loss: 0.0183\n",
      "Epoch 5/200\n",
      "7/7 [==============================] - 0s 8ms/step - loss: 0.0335 - val_loss: 0.0260\n",
      "Epoch 6/200\n",
      "7/7 [==============================] - 0s 9ms/step - loss: 0.0289 - val_loss: 0.0293\n",
      "Epoch 7/200\n",
      "7/7 [==============================] - 0s 8ms/step - loss: 0.0273 - val_loss: 0.0199\n",
      "Epoch 8/200\n",
      "7/7 [==============================] - 0s 9ms/step - loss: 0.0223 - val_loss: 0.0148\n",
      "Epoch 9/200\n",
      "7/7 [==============================] - 0s 8ms/step - loss: 0.0164 - val_loss: 0.0047\n",
      "Epoch 10/200\n",
      "7/7 [==============================] - 0s 8ms/step - loss: 0.0129 - val_loss: 0.0031\n",
      "Epoch 11/200\n",
      "7/7 [==============================] - 0s 8ms/step - loss: 0.0093 - val_loss: 0.0026\n",
      "Epoch 12/200\n",
      "7/7 [==============================] - 0s 8ms/step - loss: 0.0080 - val_loss: 0.0029\n",
      "Epoch 13/200\n",
      "7/7 [==============================] - 0s 8ms/step - loss: 0.0074 - val_loss: 0.0036\n",
      "Epoch 14/200\n",
      "7/7 [==============================] - 0s 8ms/step - loss: 0.0072 - val_loss: 0.0033\n",
      "Epoch 15/200\n",
      "7/7 [==============================] - 0s 9ms/step - loss: 0.0081 - val_loss: 0.0047\n",
      "Epoch 16/200\n",
      "7/7 [==============================] - 0s 8ms/step - loss: 0.0073 - val_loss: 0.0049\n",
      "Epoch 17/200\n",
      "7/7 [==============================] - 0s 7ms/step - loss: 0.0071 - val_loss: 0.0031\n",
      "Epoch 18/200\n",
      "7/7 [==============================] - 0s 8ms/step - loss: 0.0064 - val_loss: 0.0031\n",
      "Epoch 19/200\n",
      "7/7 [==============================] - 0s 8ms/step - loss: 0.0068 - val_loss: 0.0034\n",
      "Epoch 20/200\n",
      "7/7 [==============================] - 0s 7ms/step - loss: 0.0065 - val_loss: 0.0040\n",
      "Epoch 21/200\n",
      "7/7 [==============================] - 0s 7ms/step - loss: 0.0060 - val_loss: 0.0037\n",
      "Epoch 22/200\n",
      "7/7 [==============================] - 0s 8ms/step - loss: 0.0064 - val_loss: 0.0043\n",
      "Epoch 23/200\n",
      "7/7 [==============================] - 0s 8ms/step - loss: 0.0068 - val_loss: 0.0036\n",
      "Epoch 24/200\n",
      "7/7 [==============================] - 0s 9ms/step - loss: 0.0070 - val_loss: 0.0036\n",
      "Epoch 25/200\n",
      "7/7 [==============================] - 0s 8ms/step - loss: 0.0058 - val_loss: 0.0033\n",
      "Epoch 26/200\n",
      "7/7 [==============================] - 0s 8ms/step - loss: 0.0062 - val_loss: 0.0034\n",
      "Epoch 27/200\n",
      "7/7 [==============================] - 0s 8ms/step - loss: 0.0068 - val_loss: 0.0030\n",
      "Epoch 28/200\n",
      "7/7 [==============================] - 0s 8ms/step - loss: 0.0056 - val_loss: 0.0029\n",
      "Epoch 29/200\n",
      "7/7 [==============================] - 0s 8ms/step - loss: 0.0060 - val_loss: 0.0029\n",
      "Epoch 30/200\n",
      "7/7 [==============================] - 0s 8ms/step - loss: 0.0061 - val_loss: 0.0028\n",
      "Epoch 31/200\n",
      "7/7 [==============================] - 0s 8ms/step - loss: 0.0063 - val_loss: 0.0030\n",
      "Epoch 32/200\n",
      "7/7 [==============================] - 0s 8ms/step - loss: 0.0070 - val_loss: 0.0041\n",
      "Epoch 33/200\n",
      "7/7 [==============================] - 0s 8ms/step - loss: 0.0065 - val_loss: 0.0029\n",
      "Epoch 34/200\n",
      "7/7 [==============================] - 0s 9ms/step - loss: 0.0060 - val_loss: 0.0043\n",
      "Epoch 35/200\n",
      "7/7 [==============================] - 0s 8ms/step - loss: 0.0063 - val_loss: 0.0046\n",
      "Epoch 36/200\n",
      "7/7 [==============================] - 0s 8ms/step - loss: 0.0069 - val_loss: 0.0039\n",
      "Epoch 37/200\n",
      "7/7 [==============================] - 0s 8ms/step - loss: 0.0057 - val_loss: 0.0030\n",
      "Epoch 38/200\n",
      "7/7 [==============================] - 0s 7ms/step - loss: 0.0058 - val_loss: 0.0032\n"
     ]
    }
   ],
   "source": [
    "model2.compile(optimizer='adam', loss='mean_squared_error')\n",
    "early_stopping=EarlyStopping(monitor='loss', patience=10)\n",
    "history=model2.fit(X_train, y_train,\n",
    "                 epochs =200,\n",
    "                 batch_size=32, validation_data=(X_test, y_test),\n",
    "                 callbacks=[early_stopping])"
   ]
  },
  {
   "cell_type": "code",
   "execution_count": 50,
   "metadata": {},
   "outputs": [
    {
     "data": {
      "image/png": "[encoded data removed]",
      "text/plain": [
       "<Figure size 432x288 with 1 Axes>"
      ]
     },
     "metadata": {
      "needs_background": "light"
     },
     "output_type": "display_data"
    }
   ],
   "source": [
    "plt.plot(history.history['loss'])\n",
    "plt.plot(history.history['val_loss'])\n",
    "plt.title('loss')\n",
    "plt.xlabel('epoch')\n",
    "plt.legend(['train','validation'], loc='best')\n",
    "plt.show()"
   ]
  },
  {
   "cell_type": "code",
   "execution_count": 51,
   "metadata": {},
   "outputs": [],
   "source": [
    "y_pred = model.predict(X_test)"
   ]
  },
  {
   "cell_type": "code",
   "execution_count": 52,
   "metadata": {},
   "outputs": [],
   "source": [
    "y_pred=y_pred*scale\n",
    "y_pred = pd.DataFrame(y_pred)\n",
    "y_pred.rename(columns={0:'Prediction'}, inplace=True)"
   ]
  },
  {
   "cell_type": "code",
   "execution_count": 54,
   "metadata": {},
   "outputs": [],
   "source": [
    "y_test = y_test*scale\n",
    "y_test = pd.DataFrame(y_test)\n",
    "y_test.rename(columns={0:'Actual gas prices'}, inplace=True)"
   ]
  },
  {
   "cell_type": "code",
   "execution_count": 55,
   "metadata": {},
   "outputs": [
    {
     "data": {
      "image/png": "[encoded data removed]",
      "text/plain": [
       "<Figure size 720x432 with 1 Axes>"
      ]
     },
     "metadata": {
      "needs_background": "light"
     },
     "output_type": "display_data"
    }
   ],
   "source": [
    "plt.figure(figsize=(10,6))\n",
    "plt.plot(y_test, color='red', label='Actual price')\n",
    "plt.plot(y_pred, color= 'blue', label ='predicted price')\n",
    "plt.legend()\n",
    "plt.show()"
   ]
  },
  {
   "cell_type": "code",
   "execution_count": 56,
   "metadata": {},
   "outputs": [
    {
     "name": "stdout",
     "output_type": "stream",
     "text": [
      "Mean squared error:  0.6623252981127957\n",
      "R2 Score :  0.5185830254551151\n"
     ]
    }
   ],
   "source": [
    "MSE = math.sqrt(mean_squared_error(y_test, y_pred))\n",
    "print('Mean squared error: ', MSE)\n",
    "print('R2 Score : ', r2_score(y_test, y_pred))"
   ]
  },
  {
   "cell_type": "code",
   "execution_count": null,
   "metadata": {},
   "outputs": [],
   "source": []
  }
 ],
 "metadata": {
  "kernelspec": {
   "display_name": "Python 3",
   "language": "python",
   "name": "python3"
  },
  "language_info": {
   "codemirror_mode": {
    "name": "ipython",
    "version": 3
   },
   "file_extension": ".py",
   "mimetype": "text/x-python",
   "name": "python",
   "nbconvert_exporter": "python",
   "pygments_lexer": "ipython3",
   "version": "3.8.5"
  }
 },
 "nbformat": 4,
 "nbformat_minor": 4
}
