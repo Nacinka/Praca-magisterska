{
 "cells": [
  {
   "cell_type": "code",
   "execution_count": 1,
   "metadata": {},
   "outputs": [],
   "source": [
    "import pandas as pd\n",
    "from datetime import datetime\n",
    "import numpy as np \n",
    "from scipy import stats\n",
    "import matplotlib.pyplot as plt\n",
    "import seaborn as sns\n",
    "import matplotlib.pyplot as plt\n",
    "import tensorflow as tf\n",
    "from keras import Sequential\n",
    "from tensorflow import keras\n",
    "from keras.callbacks import ModelCheckpoint, EarlyStopping\n",
    "import math\n",
    "from sklearn.metrics import r2_score, mean_absolute_error, mean_squared_error\n",
    "from sklearn.preprocessing import MinMaxScaler"
   ]
  },
  {
   "cell_type": "code",
   "execution_count": 2,
   "metadata": {},
   "outputs": [],
   "source": [
    "np.random.seed(42)"
   ]
  },
  {
   "cell_type": "code",
   "execution_count": 3,
   "metadata": {},
   "outputs": [],
   "source": [
    "gas_price = pd.read_excel('dzienne_ceny_gazu.xlsx')\n",
    "crude_oil_price = pd.read_excel('dzienne_ceny_ropy.xlsx')\n",
    "euro = pd.read_csv('eurpln_daily.csv')\n",
    "dolar = pd.read_csv('usdpln_daily.csv')"
   ]
  },
  {
   "cell_type": "markdown",
   "metadata": {},
   "source": [
    "### Przygotowanie danych"
   ]
  },
  {
   "cell_type": "code",
   "execution_count": 6,
   "metadata": {},
   "outputs": [],
   "source": [
    "gas_price = gas_price[['Data', 'Zamknięcie']]\n",
    "gas_price = gas_price.rename(columns={'Data' : 'Date', 'Zamknięcie' : 'Gas price'})\n",
    "gas_price['Date'] =pd.to_datetime(gas_price['Date'], infer_datetime_format = True)\n",
    "crude_oil_price = crude_oil_price[['Data', 'Zamknięcie']]\n",
    "crude_oil_price = crude_oil_price.rename(columns={'Data' : 'Date', 'Zamknięcie' : 'Crude oil price'})\n",
    "crude_oil_price['Date'] =pd.to_datetime(crude_oil_price['Date'], infer_datetime_format = True)\n",
    "euro = euro[['Data','Zamkniecie']]\n",
    "euro = euro.rename(columns={'Zamkniecie': 'Euro exchange rate', 'Data':'Date'})\n",
    "euro['Date'] =pd.to_datetime(euro['Date'], infer_datetime_format = True)\n",
    "dolar = dolar[['Data','Zamkniecie']]\n",
    "dolar = dolar.rename(columns={'Zamkniecie': 'Dolar exchange rate', 'Data':'Date'})\n",
    "dolar['Date'] =pd.to_datetime(dolar['Date'], infer_datetime_format = True)\n"
   ]
  },
  {
   "cell_type": "code",
   "execution_count": 7,
   "metadata": {},
   "outputs": [],
   "source": [
    "final_daily_data = pd.merge(gas_price, crude_oil_price, how='outer', on=['Date','Date'])\n",
    "final_daily_data = pd.merge(final_daily_data, euro, how='outer', on=['Date','Date'])\n",
    "final_daily_data = pd.merge(final_daily_data, dolar, how='outer', on=['Date','Date'])"
   ]
  },
  {
   "cell_type": "code",
   "execution_count": 8,
   "metadata": {},
   "outputs": [],
   "source": [
    "final_daily_data['Euro exchange rate'].backfill(inplace = True)\n",
    "final_daily_data['Dolar exchange rate'].backfill(inplace = True)\n",
    "final_daily_data['Crude oil price'].backfill(inplace = True)\n",
    "final_daily_data['Crude oil price'].ffill(inplace = True)\n",
    "final_daily_data['Gas price'].ffill(inplace = True)"
   ]
  },
  {
   "cell_type": "code",
   "execution_count": 9,
   "metadata": {},
   "outputs": [],
   "source": [
    "final_daily_data = final_daily_data.set_index('Date')"
   ]
  },
  {
   "cell_type": "code",
   "execution_count": 10,
   "metadata": {},
   "outputs": [],
   "source": [
    "final_daily_data = final_daily_data.sort_values('Date')"
   ]
  },
  {
   "cell_type": "code",
   "execution_count": 11,
   "metadata": {},
   "outputs": [
    {
     "data": {
      "text/plain": [
       "<AxesSubplot:>"
      ]
     },
     "execution_count": 11,
     "metadata": {},
     "output_type": "execute_result"
    },
    {
     "data": {
      "image/png": "[encoded data removed]",
      "text/plain": [
       "<Figure size 1080x576 with 2 Axes>"
      ]
     },
     "metadata": {
      "needs_background": "light"
     },
     "output_type": "display_data"
    }
   ],
   "source": [
    "plt.figure(figsize=(15,8))  \n",
    "sns.heatmap(final_daily_data.corr(), annot=True, fmt='.0%')"
   ]
  },
  {
   "cell_type": "code",
   "execution_count": 12,
   "metadata": {},
   "outputs": [],
   "source": [
    "train_data = final_daily_data['2010-01-04': '2021-05-31']\n",
    "test_data = final_daily_data['2021-06-01':]"
   ]
  },
  {
   "cell_type": "code",
   "execution_count": 30,
   "metadata": {},
   "outputs": [
    {
     "data": {
      "text/plain": [
       "array([[0.90371477, 0.56771851, 0.29489161, 0.11388021],\n",
       "       [0.87169086, 0.56678768, 0.31259219, 0.12312844],\n",
       "       [0.93744663, 0.58177418, 0.3160143 , 0.12312844],\n",
       "       ...,\n",
       "       [0.30187874, 0.46420925, 0.78761668, 0.63173293],\n",
       "       [0.30785653, 0.45974123, 0.77676032, 0.62722366],\n",
       "       [0.61016225, 0.46532626, 0.77147375, 0.61912994]])"
      ]
     },
     "execution_count": 30,
     "metadata": {},
     "output_type": "execute_result"
    }
   ],
   "source": [
    "scaler=MinMaxScaler()\n",
    "scaled_data= scaler.fit_transform(train_data)\n",
    "scaled_data"
   ]
  },
  {
   "cell_type": "code",
   "execution_count": 31,
   "metadata": {},
   "outputs": [],
   "source": [
    "### "
   ]
  },
  {
   "cell_type": "code",
   "execution_count": 32,
   "metadata": {},
   "outputs": [
    {
     "name": "stdout",
     "output_type": "stream",
     "text": [
      "(2950, 1, 4) (2950,)\n"
     ]
    }
   ],
   "source": [
    "X_train=[]\n",
    "y_train=[]\n",
    "for i in range(1,scaled_data.shape[0]):\n",
    "    X_train.append(scaled_data[i-1:i])\n",
    "    y_train.append(scaled_data[i,0])\n",
    "X_train, y_train = np.array(X_train), np.array(y_train)\n",
    "print(X_train.shape, y_train.shape)"
   ]
  },
  {
   "cell_type": "markdown",
   "metadata": {},
   "source": [
    "## Model numer 4 - rekurencyjna sieć neuronowa GRU"
   ]
  },
  {
   "cell_type": "code",
   "execution_count": 33,
   "metadata": {},
   "outputs": [],
   "source": [
    "model4 = tf.keras.Sequential()\n",
    "model4.add(tf.keras.layers.GRU(units=50, return_sequences=True, input_shape=(X_train.shape[1],4)))\n",
    "model4.add(tf.keras.layers.Dropout(0.2))\n",
    "model4.add(tf.keras.layers.GRU(units=50, return_sequences=True))\n",
    "model4.add(tf.keras.layers.Dropout(0.2))\n",
    "model4.add(tf.keras.layers.GRU(units=50, return_sequences=True))\n",
    "model4.add(tf.keras.layers.Dropout(0.2))\n",
    "model4.add(tf.keras.layers.GRU(units=50, return_sequences=False))\n",
    "model4.add(tf.keras.layers.Dropout(0.2))\n",
    "model4.add(tf.keras.layers.Dense(units=25))\n",
    "model4.add(tf.keras.layers.Dense(units=1))\n"
   ]
  },
  {
   "cell_type": "code",
   "execution_count": 34,
   "metadata": {},
   "outputs": [],
   "source": [
    "new_df4 =train_data.tail(1)\n",
    "data = new_df4.append(test_data)\n"
   ]
  },
  {
   "cell_type": "code",
   "execution_count": 35,
   "metadata": {},
   "outputs": [],
   "source": [
    "inputs4 = scaler.transform(data)"
   ]
  },
  {
   "cell_type": "code",
   "execution_count": 36,
   "metadata": {},
   "outputs": [
    {
     "name": "stdout",
     "output_type": "stream",
     "text": [
      "(195, 1, 4) (195,)\n"
     ]
    }
   ],
   "source": [
    "X_test=[]\n",
    "y_test=[]\n",
    "for i in range(1, inputs4.shape[0]):\n",
    "    X_test.append(inputs4[i-1:i])\n",
    "    y_test.append(inputs4[i,0])\n",
    "X_test, y_test = np.array(X_test), np.array(y_test)\n",
    "print(X_test.shape, y_test.shape)"
   ]
  },
  {
   "cell_type": "code",
   "execution_count": 37,
   "metadata": {},
   "outputs": [
    {
     "name": "stdout",
     "output_type": "stream",
     "text": [
      "Epoch 1/200\n",
      "93/93 [==============================] - 6s 17ms/step - loss: 0.0278 - val_loss: 0.0507\n",
      "Epoch 2/200\n",
      "93/93 [==============================] - 1s 6ms/step - loss: 0.0059 - val_loss: 0.0168\n",
      "Epoch 3/200\n",
      "93/93 [==============================] - 1s 6ms/step - loss: 0.0049 - val_loss: 0.0093\n",
      "Epoch 4/200\n",
      "93/93 [==============================] - 1s 6ms/step - loss: 0.0046 - val_loss: 0.0043\n",
      "Epoch 5/200\n",
      "93/93 [==============================] - 1s 7ms/step - loss: 0.0045 - val_loss: 0.0088\n",
      "Epoch 6/200\n",
      "93/93 [==============================] - 1s 7ms/step - loss: 0.0043 - val_loss: 0.0051\n",
      "Epoch 7/200\n",
      "93/93 [==============================] - 1s 7ms/step - loss: 0.0042 - val_loss: 0.0091\n",
      "Epoch 8/200\n",
      "93/93 [==============================] - 1s 6ms/step - loss: 0.0042 - val_loss: 0.0080\n",
      "Epoch 9/200\n",
      "93/93 [==============================] - 1s 8ms/step - loss: 0.0038 - val_loss: 0.0059\n",
      "Epoch 10/200\n",
      "93/93 [==============================] - 1s 8ms/step - loss: 0.0040 - val_loss: 0.0080\n",
      "Epoch 11/200\n",
      "93/93 [==============================] - 1s 8ms/step - loss: 0.0042 - val_loss: 0.0079\n",
      "Epoch 12/200\n",
      "93/93 [==============================] - 1s 8ms/step - loss: 0.0041 - val_loss: 0.0086\n",
      "Epoch 13/200\n",
      "93/93 [==============================] - 1s 7ms/step - loss: 0.0040 - val_loss: 0.0099\n",
      "Epoch 14/200\n",
      "93/93 [==============================] - 1s 8ms/step - loss: 0.0040 - val_loss: 0.0080\n",
      "Epoch 15/200\n",
      "93/93 [==============================] - 1s 7ms/step - loss: 0.0038 - val_loss: 0.0084\n",
      "Epoch 16/200\n",
      "93/93 [==============================] - 1s 7ms/step - loss: 0.0038 - val_loss: 0.0155\n",
      "Epoch 17/200\n",
      "93/93 [==============================] - 1s 6ms/step - loss: 0.0039 - val_loss: 0.0081\n",
      "Epoch 18/200\n",
      "93/93 [==============================] - 1s 6ms/step - loss: 0.0040 - val_loss: 0.0052\n",
      "Epoch 19/200\n",
      "93/93 [==============================] - 1s 7ms/step - loss: 0.0037 - val_loss: 0.0122\n",
      "Epoch 20/200\n",
      "93/93 [==============================] - 1s 7ms/step - loss: 0.0037 - val_loss: 0.0073\n",
      "Epoch 21/200\n",
      "93/93 [==============================] - 1s 7ms/step - loss: 0.0041 - val_loss: 0.0110\n",
      "Epoch 22/200\n",
      "93/93 [==============================] - 1s 7ms/step - loss: 0.0037 - val_loss: 0.0094\n",
      "Epoch 23/200\n",
      "93/93 [==============================] - 1s 6ms/step - loss: 0.0036 - val_loss: 0.0048\n",
      "Epoch 24/200\n",
      "93/93 [==============================] - 1s 6ms/step - loss: 0.0037 - val_loss: 0.0072\n",
      "Epoch 25/200\n",
      "93/93 [==============================] - 1s 7ms/step - loss: 0.0038 - val_loss: 0.0070\n",
      "Epoch 26/200\n",
      "93/93 [==============================] - 1s 9ms/step - loss: 0.0038 - val_loss: 0.0054\n",
      "Epoch 27/200\n",
      "93/93 [==============================] - 1s 9ms/step - loss: 0.0038 - val_loss: 0.0085\n",
      "Epoch 28/200\n",
      "93/93 [==============================] - 1s 10ms/step - loss: 0.0039 - val_loss: 0.0151\n",
      "Epoch 29/200\n",
      "93/93 [==============================] - 1s 8ms/step - loss: 0.0037 - val_loss: 0.0066\n",
      "Epoch 30/200\n",
      "93/93 [==============================] - 1s 8ms/step - loss: 0.0038 - val_loss: 0.0094\n",
      "Epoch 31/200\n",
      "93/93 [==============================] - 1s 10ms/step - loss: 0.0037 - val_loss: 0.0109\n",
      "Epoch 32/200\n",
      "93/93 [==============================] - 1s 7ms/step - loss: 0.0040 - val_loss: 0.0087\n",
      "Epoch 33/200\n",
      "93/93 [==============================] - 1s 7ms/step - loss: 0.0039 - val_loss: 0.0127\n"
     ]
    }
   ],
   "source": [
    "model4.compile(optimizer='adam', loss='mean_squared_error')\n",
    "early_stopping=EarlyStopping(monitor='loss', patience=10)\n",
    "history=model4.fit(X_train, y_train,\n",
    "                 epochs =200,\n",
    "                 batch_size=32, validation_data=(X_test, y_test),\n",
    "                 callbacks=[early_stopping])"
   ]
  },
  {
   "cell_type": "code",
   "execution_count": 38,
   "metadata": {},
   "outputs": [
    {
     "data": {
      "image/png": "[encoded data removed]",
      "text/plain": [
       "<Figure size 432x288 with 1 Axes>"
      ]
     },
     "metadata": {
      "needs_background": "light"
     },
     "output_type": "display_data"
    }
   ],
   "source": [
    "plt.plot(history.history['loss'])\n",
    "plt.plot(history.history['val_loss'])\n",
    "plt.title('loss')\n",
    "plt.xlabel('epoch')\n",
    "plt.legend(['train','validation'], loc='best')\n",
    "plt.show()"
   ]
  },
  {
   "cell_type": "code",
   "execution_count": 39,
   "metadata": {},
   "outputs": [
    {
     "data": {
      "text/plain": [
       "array([0.21349274, 0.00930839, 1.18003847, 0.6044597 ])"
      ]
     },
     "execution_count": 39,
     "metadata": {},
     "output_type": "execute_result"
    }
   ],
   "source": [
    "y_pred = model4.predict(X_test)\n",
    "scaler.scale_\n"
   ]
  },
  {
   "cell_type": "code",
   "execution_count": 40,
   "metadata": {},
   "outputs": [
    {
     "data": {
      "text/plain": [
       "4.684000027354561"
      ]
     },
     "execution_count": 40,
     "metadata": {},
     "output_type": "execute_result"
    }
   ],
   "source": [
    "scale=1/0.21349274\n",
    "scale"
   ]
  },
  {
   "cell_type": "code",
   "execution_count": 41,
   "metadata": {},
   "outputs": [],
   "source": [
    "y_pred = y_pred*scale\n",
    "y_pred = pd.DataFrame(y_pred)\n",
    "y_pred.rename(columns={0:'Predicted gas prices'}, inplace=True)\n"
   ]
  },
  {
   "cell_type": "code",
   "execution_count": 42,
   "metadata": {},
   "outputs": [],
   "source": [
    "y_test = y_test*scale\n",
    "y_test = pd.DataFrame(y_test)\n",
    "y_test.rename(columns={0:'Actual gas prices'}, inplace=True)\n"
   ]
  },
  {
   "cell_type": "code",
   "execution_count": 43,
   "metadata": {},
   "outputs": [
    {
     "name": "stdout",
     "output_type": "stream",
     "text": [
      "Mean squared error:  0.5280519462723631\n",
      "R2 Score :  0.5167706888638435\n"
     ]
    }
   ],
   "source": [
    "MSE = math.sqrt(mean_squared_error(y_test, y_pred))\n",
    "print('Mean squared error: ', MSE)\n",
    "print('R2 Score : ', r2_score(y_test, y_pred))"
   ]
  },
  {
   "cell_type": "markdown",
   "metadata": {},
   "source": [
    "## Model numer 3 rekurencyjna sieć neuronowa LSTM"
   ]
  },
  {
   "cell_type": "code",
   "execution_count": 44,
   "metadata": {},
   "outputs": [],
   "source": [
    "model3 = tf.keras.Sequential()\n",
    "model3.add(tf.keras.layers.LSTM(units=50, return_sequences=True, input_shape=(X_train.shape[1],4)))\n",
    "model3.add(tf.keras.layers.Dropout(0.2))\n",
    "model3.add(tf.keras.layers.LSTM(units=50, return_sequences=True))\n",
    "model3.add(tf.keras.layers.Dropout(0.2))\n",
    "model3.add(tf.keras.layers.LSTM(units=50, return_sequences=True))\n",
    "model3.add(tf.keras.layers.Dropout(0.2))\n",
    "model3.add(tf.keras.layers.LSTM(units=50, return_sequences=False))\n",
    "model3.add(tf.keras.layers.Dropout(0.2))\n",
    "model3.add(tf.keras.layers.Dense(units=25))\n",
    "model3.add(tf.keras.layers.Dense(units=1))"
   ]
  },
  {
   "cell_type": "code",
   "execution_count": 45,
   "metadata": {},
   "outputs": [
    {
     "name": "stdout",
     "output_type": "stream",
     "text": [
      "(195, 1, 4) (195,)\n"
     ]
    }
   ],
   "source": [
    "new_df3 =train_data.tail(1)\n",
    "data = new_df3.append(test_data)\n",
    "inputs3 = scaler.transform(data)\n",
    "X_test=[]\n",
    "y_test=[]\n",
    "for i in range(1, inputs3.shape[0]):\n",
    "    X_test.append(inputs3[i-1:i])\n",
    "    y_test.append(inputs3[i,0])\n",
    "X_test, y_test = np.array(X_test), np.array(y_test)\n",
    "print(X_test.shape, y_test.shape)"
   ]
  },
  {
   "cell_type": "code",
   "execution_count": 46,
   "metadata": {},
   "outputs": [
    {
     "name": "stdout",
     "output_type": "stream",
     "text": [
      "Epoch 1/200\n",
      "93/93 [==============================] - 6s 17ms/step - loss: 0.0452 - val_loss: 0.0726\n",
      "Epoch 2/200\n",
      "93/93 [==============================] - 1s 6ms/step - loss: 0.0087 - val_loss: 0.0378\n",
      "Epoch 3/200\n",
      "93/93 [==============================] - 1s 6ms/step - loss: 0.0051 - val_loss: 0.0072\n",
      "Epoch 4/200\n",
      "93/93 [==============================] - 0s 4ms/step - loss: 0.0046 - val_loss: 0.0080\n",
      "Epoch 5/200\n",
      "93/93 [==============================] - 0s 4ms/step - loss: 0.0043 - val_loss: 0.0067\n",
      "Epoch 6/200\n",
      "93/93 [==============================] - 0s 4ms/step - loss: 0.0041 - val_loss: 0.0091\n",
      "Epoch 7/200\n",
      "93/93 [==============================] - 0s 4ms/step - loss: 0.0040 - val_loss: 0.0058\n",
      "Epoch 8/200\n",
      "93/93 [==============================] - 0s 4ms/step - loss: 0.0041 - val_loss: 0.0061\n",
      "Epoch 9/200\n",
      "93/93 [==============================] - 0s 4ms/step - loss: 0.0039 - val_loss: 0.0055\n",
      "Epoch 10/200\n",
      "93/93 [==============================] - 0s 5ms/step - loss: 0.0039 - val_loss: 0.0064\n",
      "Epoch 11/200\n",
      "93/93 [==============================] - 0s 5ms/step - loss: 0.0038 - val_loss: 0.0067\n",
      "Epoch 12/200\n",
      "93/93 [==============================] - 1s 7ms/step - loss: 0.0039 - val_loss: 0.0105\n",
      "Epoch 13/200\n",
      "93/93 [==============================] - 1s 7ms/step - loss: 0.0039 - val_loss: 0.0085\n",
      "Epoch 14/200\n",
      "93/93 [==============================] - 1s 6ms/step - loss: 0.0037 - val_loss: 0.0069\n",
      "Epoch 15/200\n",
      "93/93 [==============================] - 1s 7ms/step - loss: 0.0036 - val_loss: 0.0064\n",
      "Epoch 16/200\n",
      "93/93 [==============================] - 1s 7ms/step - loss: 0.0037 - val_loss: 0.0085\n",
      "Epoch 17/200\n",
      "93/93 [==============================] - 1s 6ms/step - loss: 0.0037 - val_loss: 0.0100\n",
      "Epoch 18/200\n",
      "93/93 [==============================] - 1s 7ms/step - loss: 0.0038 - val_loss: 0.0080\n",
      "Epoch 19/200\n",
      "93/93 [==============================] - 1s 5ms/step - loss: 0.0037 - val_loss: 0.0089\n",
      "Epoch 20/200\n",
      "93/93 [==============================] - 1s 6ms/step - loss: 0.0037 - val_loss: 0.0067\n",
      "Epoch 21/200\n",
      "93/93 [==============================] - 1s 6ms/step - loss: 0.0036 - val_loss: 0.0067\n",
      "Epoch 22/200\n",
      "93/93 [==============================] - 0s 5ms/step - loss: 0.0037 - val_loss: 0.0072\n",
      "Epoch 23/200\n",
      "93/93 [==============================] - 1s 6ms/step - loss: 0.0036 - val_loss: 0.0114\n",
      "Epoch 24/200\n",
      "93/93 [==============================] - 1s 6ms/step - loss: 0.0037 - val_loss: 0.0079\n",
      "Epoch 25/200\n",
      "93/93 [==============================] - 1s 6ms/step - loss: 0.0035 - val_loss: 0.0069\n",
      "Epoch 26/200\n",
      "93/93 [==============================] - 0s 5ms/step - loss: 0.0036 - val_loss: 0.0081\n",
      "Epoch 27/200\n",
      "93/93 [==============================] - 0s 5ms/step - loss: 0.0036 - val_loss: 0.0062\n",
      "Epoch 28/200\n",
      "93/93 [==============================] - 0s 5ms/step - loss: 0.0036 - val_loss: 0.0079\n",
      "Epoch 29/200\n",
      "93/93 [==============================] - 0s 5ms/step - loss: 0.0035 - val_loss: 0.0078\n",
      "Epoch 30/200\n",
      "93/93 [==============================] - 0s 5ms/step - loss: 0.0036 - val_loss: 0.0106\n",
      "Epoch 31/200\n",
      "93/93 [==============================] - 0s 5ms/step - loss: 0.0035 - val_loss: 0.0154\n",
      "Epoch 32/200\n",
      "93/93 [==============================] - 0s 5ms/step - loss: 0.0036 - val_loss: 0.0093\n",
      "Epoch 33/200\n",
      "93/93 [==============================] - 0s 5ms/step - loss: 0.0037 - val_loss: 0.0087\n",
      "Epoch 34/200\n",
      "93/93 [==============================] - 1s 6ms/step - loss: 0.0036 - val_loss: 0.0105\n",
      "Epoch 35/200\n",
      "93/93 [==============================] - 0s 5ms/step - loss: 0.0036 - val_loss: 0.0073\n",
      "Epoch 36/200\n",
      "93/93 [==============================] - 1s 8ms/step - loss: 0.0037 - val_loss: 0.0105\n",
      "Epoch 37/200\n",
      "93/93 [==============================] - 1s 6ms/step - loss: 0.0035 - val_loss: 0.0091\n",
      "Epoch 38/200\n",
      "93/93 [==============================] - 1s 7ms/step - loss: 0.0035 - val_loss: 0.0099\n",
      "Epoch 39/200\n",
      "93/93 [==============================] - 1s 8ms/step - loss: 0.0035 - val_loss: 0.0082\n",
      "Epoch 40/200\n",
      "93/93 [==============================] - 1s 8ms/step - loss: 0.0036 - val_loss: 0.0081\n",
      "Epoch 41/200\n",
      "93/93 [==============================] - 1s 8ms/step - loss: 0.0036 - val_loss: 0.0109\n",
      "Epoch 42/200\n",
      "93/93 [==============================] - 1s 8ms/step - loss: 0.0034 - val_loss: 0.0084\n",
      "Epoch 43/200\n",
      "93/93 [==============================] - 1s 9ms/step - loss: 0.0037 - val_loss: 0.0064\n",
      "Epoch 44/200\n",
      "93/93 [==============================] - 1s 9ms/step - loss: 0.0036 - val_loss: 0.0133\n",
      "Epoch 45/200\n",
      "93/93 [==============================] - 1s 7ms/step - loss: 0.0035 - val_loss: 0.0112\n",
      "Epoch 46/200\n",
      "93/93 [==============================] - 1s 8ms/step - loss: 0.0038 - val_loss: 0.0094\n",
      "Epoch 47/200\n",
      "93/93 [==============================] - 1s 7ms/step - loss: 0.0036 - val_loss: 0.0090\n",
      "Epoch 48/200\n",
      "93/93 [==============================] - 1s 10ms/step - loss: 0.0035 - val_loss: 0.0153\n",
      "Epoch 49/200\n",
      "93/93 [==============================] - 1s 9ms/step - loss: 0.0035 - val_loss: 0.0144\n",
      "Epoch 50/200\n",
      "93/93 [==============================] - 1s 8ms/step - loss: 0.0035 - val_loss: 0.0125\n",
      "Epoch 51/200\n",
      "93/93 [==============================] - 1s 8ms/step - loss: 0.0035 - val_loss: 0.0103\n",
      "Epoch 52/200\n",
      "93/93 [==============================] - 1s 8ms/step - loss: 0.0036 - val_loss: 0.0114\n"
     ]
    }
   ],
   "source": [
    "model3.compile(optimizer='adam', loss='mean_squared_error')\n",
    "early_stopping=EarlyStopping(monitor='loss', patience=10)\n",
    "history=model3.fit(X_train, y_train,\n",
    "                 epochs =200,\n",
    "                 batch_size=32, validation_data=(X_test, y_test),\n",
    "                 callbacks=[early_stopping])"
   ]
  },
  {
   "cell_type": "code",
   "execution_count": 47,
   "metadata": {},
   "outputs": [
    {
     "data": {
      "image/png": "[encoded data removed]",
      "text/plain": [
       "<Figure size 432x288 with 1 Axes>"
      ]
     },
     "metadata": {
      "needs_background": "light"
     },
     "output_type": "display_data"
    }
   ],
   "source": [
    "plt.plot(history.history['loss'])\n",
    "plt.plot(history.history['val_loss'])\n",
    "plt.title('loss')\n",
    "plt.xlabel('epoch')\n",
    "plt.legend(['train','validation'], loc='best')\n",
    "plt.show()"
   ]
  },
  {
   "cell_type": "code",
   "execution_count": 48,
   "metadata": {},
   "outputs": [
    {
     "data": {
      "text/plain": [
       "array([0.21349274, 0.00930839, 1.18003847, 0.6044597 ])"
      ]
     },
     "execution_count": 48,
     "metadata": {},
     "output_type": "execute_result"
    }
   ],
   "source": [
    "y_pred = model3.predict(X_test)\n",
    "scaler.scale_"
   ]
  },
  {
   "cell_type": "code",
   "execution_count": 49,
   "metadata": {},
   "outputs": [
    {
     "data": {
      "text/plain": [
       "4.684000027354561"
      ]
     },
     "execution_count": 49,
     "metadata": {},
     "output_type": "execute_result"
    }
   ],
   "source": [
    "scale=1/0.21349274\n",
    "scale"
   ]
  },
  {
   "cell_type": "code",
   "execution_count": 50,
   "metadata": {},
   "outputs": [],
   "source": [
    "y_pred = y_pred*scale\n",
    "y_pred = pd.DataFrame(y_pred)\n",
    "y_pred.rename(columns={0:'Predicted gas prices'}, inplace=True)"
   ]
  },
  {
   "cell_type": "code",
   "execution_count": 51,
   "metadata": {},
   "outputs": [],
   "source": [
    "y_test = y_test*scale\n",
    "y_test = pd.DataFrame(y_test)\n",
    "y_test.rename(columns={0:'Actual gas prices'}, inplace=True)\n"
   ]
  },
  {
   "cell_type": "code",
   "execution_count": 52,
   "metadata": {},
   "outputs": [
    {
     "name": "stdout",
     "output_type": "stream",
     "text": [
      "Mean squared error:  0.4993014965549824\n",
      "R2 Score :  0.5679582569769555\n"
     ]
    }
   ],
   "source": [
    "MSE = math.sqrt(mean_squared_error(y_test, y_pred))\n",
    "print('Mean squared error: ', MSE)\n",
    "print('R2 Score : ', r2_score(y_test, y_pred))"
   ]
  }
 ],
 "metadata": {
  "kernelspec": {
   "display_name": "Python 3",
   "language": "python",
   "name": "python3"
  },
  "language_info": {
   "codemirror_mode": {
    "name": "ipython",
    "version": 3
   },
   "file_extension": ".py",
   "mimetype": "text/x-python",
   "name": "python",
   "nbconvert_exporter": "python",
   "pygments_lexer": "ipython3",
   "version": "3.8.5"
  }
 },
 "nbformat": 4,
 "nbformat_minor": 4
}
