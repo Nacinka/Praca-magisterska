{
 "cells": [
  {
   "cell_type": "code",
   "execution_count": 8,
   "metadata": {},
   "outputs": [],
   "source": [
    "import pandas as pd\n",
    "from datetime import datetime\n",
    "import numpy as np"
   ]
  },
  {
   "cell_type": "code",
   "execution_count": 4,
   "metadata": {},
   "outputs": [],
   "source": [
    "inflation = pd.read_excel('miesieczne_wskazniki_cen_towarow_i_uslug_konsumpcyjnych_od_1982_roku (1).xlsx')\n",
    "inflation = inflation[['Wartość','Data']]\n",
    "inflation = inflation.rename(columns={'Wartość': 'Inflation', 'Data':'Date'})\n",
    "gas_price = pd.read_excel('miesiace-ceny gazu.xlsx')\n",
    "gas_price = gas_price[['Data', 'Zamknięcie']]\n",
    "gas_price = gas_price.rename(columns={'Zamknięcie': 'Gas price', 'Data':'Date'})\n",
    "crude_oil_price = pd.read_excel('miesiace-ceny ropy.xlsx')\n",
    "crude_oil_price = crude_oil_price[['Zamknięcie','Data']]\n",
    "crude_oil_price = crude_oil_price.rename(columns={'Zamknięcie': 'Crude oil price', 'Data':'Date'})\n",
    "gas_import = pd.read_excel('IMPORT DANE MIESIECZNE.xlsx')\n",
    "gas_import.dropna(axis=0, subset=['VALUE'], inplace = True)\n",
    "gas_import = gas_import.rename(columns={'TIME': 'Date','VALUE': 'Gas import'})\n",
    "euro = pd.read_csv('eurpln_m.csv')\n",
    "data3=[]\n",
    "for data in euro['Data']:\n",
    "    date_time_str = data\n",
    "    data1 = datetime.strptime(str(date_time_str), '%Y-%m-%d')\n",
    "    data2 = data1.strftime('%Y-%m')\n",
    "    data3.append(data2)\n",
    "euro['Data'] = data3\n",
    "euro = euro[['Data','Zamkniecie']]\n",
    "euro = euro.rename(columns={'Zamkniecie': 'Euro exchange rate', 'Data':'Date'})\n",
    "dolar = pd.read_csv('usdpln_m.csv')\n",
    "data3=[]\n",
    "for data in dolar['Data']:\n",
    "    date_time_str = data\n",
    "    data1 = datetime.strptime(str(date_time_str), '%Y-%m-%d')\n",
    "    data2 = data1.strftime('%Y-%m')\n",
    "    data3.append(data2)\n",
    "dolar['Data'] = data3\n",
    "dolar = dolar[['Data','Zamkniecie']]\n",
    "dolar = dolar.rename(columns={'Zamkniecie': 'Dolar exchange rate', 'Data':'Date'})\n",
    "pkb = pd.read_csv('PKB.csv')\n",
    "pkb = pkb.rename(columns={'POLLORSGPTDSTSAM': 'PKB index', 'DATE': 'Date'})\n",
    "data_pkb=[]\n",
    "for data in pkb['Date']:\n",
    "    date_time_str = data\n",
    "    data1 = datetime.strptime(str(date_time_str), '%Y-%m-%d')\n",
    "    data2 = data1.strftime('%Y-%m')\n",
    "    data_pkb.append(data2)\n",
    "pkb['Date'] = data_pkb\n",
    "temperature = pd.read_csv('temperature.csv')"
   ]
  },
  {
   "cell_type": "code",
   "execution_count": 5,
   "metadata": {},
   "outputs": [],
   "source": [
    "final_data = pd.merge(gas_price, crude_oil_price, how='outer', on=['Date','Date'])\n",
    "final_data = pd.merge(final_data, inflation, how='outer', on=['Date','Date'])\n",
    "final_data = pd.merge(final_data, euro, how='outer', on=['Date','Date'])\n",
    "final_data = pd.merge(final_data, dolar, how='outer', on=['Date','Date'])\n",
    "final_data = pd.merge(final_data, gas_import, how='outer', on=['Date','Date'])\n",
    "final_data = pd.merge(final_data, pkb, how='outer', on=['Date','Date'])\n",
    "final_data = pd.merge(final_data, temperature, how='outer', on=['Date','Date'])\n",
    "final_data = final_data.set_index('Date')"
   ]
  },
  {
   "cell_type": "code",
   "execution_count": 9,
   "metadata": {},
   "outputs": [],
   "source": [
    "final_data['Inflation'].backfill(inplace = True)\n",
    "final_data['Euro exchange rate'].backfill(inplace = True)\n",
    "final_data['Euro exchange rate'].ffill(inplace = True)\n",
    "final_data['Crude oil price'].ffill(inplace = True)\n",
    "final_data['PKB index'].backfill(inplace = True)\n",
    "final_data['Gas import'] = final_data['Gas import'].replace(':', np.nan)\n",
    "final_data['Gas import'].fillna(final_data['Gas import'].mean(), inplace = True)"
   ]
  },
  {
   "cell_type": "code",
   "execution_count": 11,
   "metadata": {},
   "outputs": [],
   "source": [
    "final_data.to_excel(\"final_data.xlsx\")"
   ]
  },
  {
   "cell_type": "code",
   "execution_count": null,
   "metadata": {},
   "outputs": [],
   "source": []
  }
 ],
 "metadata": {
  "kernelspec": {
   "display_name": "Python 3",
   "language": "python",
   "name": "python3"
  },
  "language_info": {
   "codemirror_mode": {
    "name": "ipython",
    "version": 3
   },
   "file_extension": ".py",
   "mimetype": "text/x-python",
   "name": "python",
   "nbconvert_exporter": "python",
   "pygments_lexer": "ipython3",
   "version": "3.8.5"
  }
 },
 "nbformat": 4,
 "nbformat_minor": 4
}
